{
  "nbformat": 4,
  "nbformat_minor": 0,
  "metadata": {
    "colab": {
      "name": "Untitled2.ipynb",
      "provenance": []
    },
    "kernelspec": {
      "name": "python3",
      "display_name": "Python 3"
    },
    "language_info": {
      "name": "python"
    }
  },
  "cells": [
    {
      "cell_type": "code",
      "execution_count": 21,
      "metadata": {
        "id": "fvENUM9Uku3x"
      },
      "outputs": [],
      "source": [
        "import numpy as np\n",
        "import matplotlib.pyplot as plt\n",
        "\n",
        "np.random.seed(0)\n",
        "\n",
        "X = np.array([ [0,0], [0,1], [1,0], [1,1] ])\n",
        "Y = np.array([ [0], [1], [1], [1] ])"
      ]
    },
    {
      "cell_type": "code",
      "source": [
        "class NeuralNetwork(object):\n",
        "    def __init__(self):\n",
        "        inputLayerNeurons = 2\n",
        "        hiddenLayerNeurons = 20\n",
        "        outLayerNeurons = 1\n",
        "        \n",
        "        self.learning_rate = 0.2\n",
        "        self.W_HI = np.random.randn(inputLayerNeurons, hiddenLayerNeurons)\n",
        "        self.W_OH = np.random.randn(hiddenLayerNeurons, outLayerNeurons)\n",
        "        \n",
        "    def sigmoid(self, x, der=False):\n",
        "        if der == True:\n",
        "            return x * (1-x)\n",
        "        else:\n",
        "            return 1 / (1 + np.exp(-x))\n",
        "        \n",
        "    def feedForward(self, X):\n",
        "        hidden_input = np.dot(X, self.W_HI)\n",
        "        self.hidden_output = self.sigmoid(hidden_input)\n",
        "        \n",
        "        output_input = np.dot(self.hidden_output, self.W_OH)\n",
        "        pred = self.sigmoid(output_input)\n",
        "        return pred\n",
        "        \n",
        "    def backPropagation(self, X, Y, pred):\n",
        "        output_error = Y - pred\n",
        "        output_delta = self.learning_rate * output_error * self.sigmoid(pred, der=True)\n",
        "        \n",
        "        hidden_error = output_delta.dot(self.W_OH.T)\n",
        "        hidden_delta = self.learning_rate * hidden_error * self.sigmoid(self.hidden_output, der=True)\n",
        "        \n",
        "        self.W_HI += X.T.dot(hidden_delta)\n",
        "        self.W_OH += self.hidden_output.T.dot(output_delta)\n",
        "        \n",
        "    def train(self, X, Y):\n",
        "        output = self.feedForward(X)\n",
        "        self.backPropagation(X,Y,output)"
      ],
      "metadata": {
        "id": "Q3e5PhxWk2-_"
      },
      "execution_count": 22,
      "outputs": []
    },
    {
      "cell_type": "code",
      "source": [
        "NN = NeuralNetwork()\n",
        "\n",
        "err = []\n",
        "for i in range(10000):\n",
        "    NN.train(X,Y)\n",
        "    err.append(np.mean(np.square(Y - NN.feedForward(X))))\n",
        "\n",
        "plt.plot(err)"
      ],
      "metadata": {
        "colab": {
          "base_uri": "https://localhost:8080/",
          "height": 282
        },
        "id": "YinC1qAyk5t5",
        "outputId": "c2739be1-d174-4d3c-b480-01e97164d0ec"
      },
      "execution_count": 23,
      "outputs": [
        {
          "output_type": "execute_result",
          "data": {
            "text/plain": [
              "[<matplotlib.lines.Line2D at 0x7f31a2c28f10>]"
            ]
          },
          "metadata": {},
          "execution_count": 23
        },
        {
          "output_type": "display_data",
          "data": {
            "image/png": "[encoded data removed]",
            "text/plain": [
              "<Figure size 432x288 with 1 Axes>"
            ]
          },
          "metadata": {
            "needs_background": "light"
          }
        }
      ]
    },
    {
      "cell_type": "code",
      "source": [
        "print(NN.feedForward([0,0]))"
      ],
      "metadata": {
        "colab": {
          "base_uri": "https://localhost:8080/"
        },
        "id": "pzpPBCyyk-aI",
        "outputId": "4ce16b9a-64d1-4444-f853-a1047521334a"
      },
      "execution_count": 24,
      "outputs": [
        {
          "output_type": "stream",
          "name": "stdout",
          "text": [
            "[0.02834035]\n"
          ]
        }
      ]
    },
    {
      "cell_type": "code",
      "source": [
        "print(NN.feedForward([1,1]))"
      ],
      "metadata": {
        "colab": {
          "base_uri": "https://localhost:8080/"
        },
        "id": "7zpXQJh0o4Nl",
        "outputId": "aec9762c-49b3-4b0a-a22c-887c5d122589"
      },
      "execution_count": 25,
      "outputs": [
        {
          "output_type": "stream",
          "name": "stdout",
          "text": [
            "[0.99973224]\n"
          ]
        }
      ]
    }
  ]
}