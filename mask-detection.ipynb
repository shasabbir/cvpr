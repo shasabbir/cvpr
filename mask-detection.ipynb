{
 "cells": [
  {
   "cell_type": "code",
   "execution_count": 1,
   "id": "93c58c59",
   "metadata": {},
   "outputs": [],
   "source": [
    "import cv2\n",
    "import numpy as np\n",
    "from tensorflow.keras.models import load_model"
   ]
  },
  {
   "cell_type": "code",
   "execution_count": 2,
   "id": "23364805",
   "metadata": {},
   "outputs": [],
   "source": [
    "face_cascade=cv2.CascadeClassifier(r'F:\\face-mask-assignment\\cascades\\haarcascade_frontalface_default.xml')"
   ]
  },
  {
   "cell_type": "code",
   "execution_count": 3,
   "id": "6b2b620b",
   "metadata": {},
   "outputs": [],
   "source": [
    "model = load_model(r'F:\\face-mask-assignment\\model\\face_mask_detection_model.h5')"
   ]
  },
  {
   "cell_type": "code",
   "execution_count": null,
   "id": "fe233811",
   "metadata": {},
   "outputs": [],
   "source": [
    "IMG_SIZE = 227\n",
    "video=cv2.VideoCapture(0)\n",
    "address = 'http://192.168.196.199:8080/video'\n",
    "video.open(address)\n",
    "\n",
    "while True:\n",
    "    try:\n",
    "        check,frame=video.read()\n",
    "        grayFrame = cv2.cvtColor(frame,cv2.COLOR_BGR2GRAY)\n",
    "        faces = face_cascade.detectMultiScale(grayFrame)\n",
    "\n",
    "        for x,y,w,h in faces:\n",
    "            roi_gray = grayFrame[y:y+h,x:x+w]\n",
    "            roi_color = frame[y:y+h,x:x+w]\n",
    "\n",
    "            face = cv2.resize(roi_color,(IMG_SIZE,IMG_SIZE))\n",
    "            exp = np.expand_dims(face,axis=0)\n",
    "            prediction = model.predict(exp)\n",
    "            pred = np.argmax(prediction)\n",
    "            confidence =\"{:.2f}\".format(np.max(prediction)*100)\n",
    "\n",
    "            if pred==0:\n",
    "                res = 'Wearing a Mask'\n",
    "                color=(0,255,0)\n",
    "            else:\n",
    "                res = 'Not wearing a Mask'\n",
    "                color=(0,0,255)\n",
    "\n",
    "            cv2.rectangle(frame,(x,y),(x+w,y+h),color,2)\n",
    "            cv2.putText(frame,res+':'+confidence+'%',(x,y-10),2,1,color,2)\n",
    "        cv2.imshow('FaceDetection',frame)\n",
    "\n",
    "        key=cv2.waitKey(1)\n",
    "        if key==ord('x'):\n",
    "            break\n",
    "            \n",
    "    except: \n",
    "        break               \n",
    "        \n",
    "video.release()\n",
    "cv2.destroyWindow('FaceDetection')"
   ]
  }
 ],
 "metadata": {
  "kernelspec": {
   "display_name": "Python 3 (ipykernel)",
   "language": "python",
   "name": "python3"
  },
  "language_info": {
   "codemirror_mode": {
    "name": "ipython",
    "version": 3
   },
   "file_extension": ".py",
   "mimetype": "text/x-python",
   "name": "python",
   "nbconvert_exporter": "python",
   "pygments_lexer": "ipython3",
   "version": "3.8.12"
  }
 },
 "nbformat": 4,
 "nbformat_minor": 5
}
